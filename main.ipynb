{
 "cells": [
  {
   "cell_type": "code",
   "execution_count": 3,
   "id": "9f01c405",
   "metadata": {},
   "outputs": [],
   "source": [
    "import requests\n",
    "import json\n",
    "import pandas as pd"
   ]
  },
  {
   "cell_type": "code",
   "execution_count": 4,
   "id": "d99a359a",
   "metadata": {},
   "outputs": [],
   "source": [
    "response = requests.get('http://api.open-notify.org/astros.json') #ISS API"
   ]
  },
  {
   "cell_type": "code",
   "execution_count": 5,
   "id": "d5cfec84",
   "metadata": {},
   "outputs": [],
   "source": [
    "iss_data = response.json()  #DATA"
   ]
  },
  {
   "cell_type": "code",
   "execution_count": 11,
   "id": "f7177dfd",
   "metadata": {},
   "outputs": [
    {
     "data": {
      "text/html": [
       "<div>\n",
       "<style scoped>\n",
       "    .dataframe tbody tr th:only-of-type {\n",
       "        vertical-align: middle;\n",
       "    }\n",
       "\n",
       "    .dataframe tbody tr th {\n",
       "        vertical-align: top;\n",
       "    }\n",
       "\n",
       "    .dataframe thead th {\n",
       "        text-align: right;\n",
       "    }\n",
       "</style>\n",
       "<table border=\"1\" class=\"dataframe\">\n",
       "  <thead>\n",
       "    <tr style=\"text-align: right;\">\n",
       "      <th></th>\n",
       "      <th>people</th>\n",
       "      <th>message</th>\n",
       "      <th>number</th>\n",
       "    </tr>\n",
       "  </thead>\n",
       "  <tbody>\n",
       "    <tr>\n",
       "      <th>0</th>\n",
       "      <td>{'craft': 'ISS', 'name': 'Mark Vande Hei'}</td>\n",
       "      <td>success</td>\n",
       "      <td>10</td>\n",
       "    </tr>\n",
       "    <tr>\n",
       "      <th>1</th>\n",
       "      <td>{'craft': 'ISS', 'name': 'Pyotr Dubrov'}</td>\n",
       "      <td>success</td>\n",
       "      <td>10</td>\n",
       "    </tr>\n",
       "    <tr>\n",
       "      <th>2</th>\n",
       "      <td>{'craft': 'ISS', 'name': 'Anton Shkaplerov'}</td>\n",
       "      <td>success</td>\n",
       "      <td>10</td>\n",
       "    </tr>\n",
       "    <tr>\n",
       "      <th>3</th>\n",
       "      <td>{'craft': 'Shenzhou 13', 'name': 'Zhai Zhigang'}</td>\n",
       "      <td>success</td>\n",
       "      <td>10</td>\n",
       "    </tr>\n",
       "    <tr>\n",
       "      <th>4</th>\n",
       "      <td>{'craft': 'Shenzhou 13', 'name': 'Wang Yaping'}</td>\n",
       "      <td>success</td>\n",
       "      <td>10</td>\n",
       "    </tr>\n",
       "    <tr>\n",
       "      <th>5</th>\n",
       "      <td>{'craft': 'Shenzhou 13', 'name': 'Ye Guangfu'}</td>\n",
       "      <td>success</td>\n",
       "      <td>10</td>\n",
       "    </tr>\n",
       "    <tr>\n",
       "      <th>6</th>\n",
       "      <td>{'craft': 'ISS', 'name': 'Raja Chari'}</td>\n",
       "      <td>success</td>\n",
       "      <td>10</td>\n",
       "    </tr>\n",
       "    <tr>\n",
       "      <th>7</th>\n",
       "      <td>{'craft': 'ISS', 'name': 'Tom Marshburn'}</td>\n",
       "      <td>success</td>\n",
       "      <td>10</td>\n",
       "    </tr>\n",
       "    <tr>\n",
       "      <th>8</th>\n",
       "      <td>{'craft': 'ISS', 'name': 'Kayla Barron'}</td>\n",
       "      <td>success</td>\n",
       "      <td>10</td>\n",
       "    </tr>\n",
       "    <tr>\n",
       "      <th>9</th>\n",
       "      <td>{'craft': 'ISS', 'name': 'Matthias Maurer'}</td>\n",
       "      <td>success</td>\n",
       "      <td>10</td>\n",
       "    </tr>\n",
       "  </tbody>\n",
       "</table>\n",
       "</div>"
      ],
      "text/plain": [
       "                                             people  message  number\n",
       "0        {'craft': 'ISS', 'name': 'Mark Vande Hei'}  success      10\n",
       "1          {'craft': 'ISS', 'name': 'Pyotr Dubrov'}  success      10\n",
       "2      {'craft': 'ISS', 'name': 'Anton Shkaplerov'}  success      10\n",
       "3  {'craft': 'Shenzhou 13', 'name': 'Zhai Zhigang'}  success      10\n",
       "4   {'craft': 'Shenzhou 13', 'name': 'Wang Yaping'}  success      10\n",
       "5    {'craft': 'Shenzhou 13', 'name': 'Ye Guangfu'}  success      10\n",
       "6            {'craft': 'ISS', 'name': 'Raja Chari'}  success      10\n",
       "7         {'craft': 'ISS', 'name': 'Tom Marshburn'}  success      10\n",
       "8          {'craft': 'ISS', 'name': 'Kayla Barron'}  success      10\n",
       "9       {'craft': 'ISS', 'name': 'Matthias Maurer'}  success      10"
      ]
     },
     "execution_count": 11,
     "metadata": {},
     "output_type": "execute_result"
    }
   ],
   "source": [
    "df = pd.DataFrame(data=iss_data)   #CREATE OUR DATAFRAME WITH PANDAS\n",
    "df"
   ]
  },
  {
   "cell_type": "code",
   "execution_count": 12,
   "id": "153cc8f2",
   "metadata": {},
   "outputs": [],
   "source": [
    "df.to_excel('PeopleInSpace.xlsx', index=False)  #CREATE A EXCEL FILE WITH OUR DATA"
   ]
  },
  {
   "cell_type": "code",
   "execution_count": null,
   "id": "82cb244d",
   "metadata": {},
   "outputs": [],
   "source": []
  }
 ],
 "metadata": {
  "kernelspec": {
   "display_name": "Python 3 (ipykernel)",
   "language": "python",
   "name": "python3"
  },
  "language_info": {
   "codemirror_mode": {
    "name": "ipython",
    "version": 3
   },
   "file_extension": ".py",
   "mimetype": "text/x-python",
   "name": "python",
   "nbconvert_exporter": "python",
   "pygments_lexer": "ipython3",
   "version": "3.9.6"
  }
 },
 "nbformat": 4,
 "nbformat_minor": 5
}
